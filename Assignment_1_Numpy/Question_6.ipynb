{
 "cells": [
  {
   "cell_type": "markdown",
   "id": "f2de67bd",
   "metadata": {},
   "source": [
    "## Q6- Concatenate following arrays along axis=0\n",
    "x=np.array([[1,2],[3,4]])\n",
    "\n",
    "y=np.array([[5,6]])"
   ]
  },
  {
   "cell_type": "code",
   "execution_count": 1,
   "id": "8d455520",
   "metadata": {},
   "outputs": [],
   "source": [
    "import numpy as np"
   ]
  },
  {
   "cell_type": "code",
   "execution_count": 2,
   "id": "b3d26e18",
   "metadata": {},
   "outputs": [
    {
     "name": "stdout",
     "output_type": "stream",
     "text": [
      "Array 1 : \n",
      " [[1 2]\n",
      " [3 4]]\n",
      "Array 2 : \n",
      " [[5 6]]\n",
      "Concatenate along rows : \n",
      " [[1 2]\n",
      " [3 4]\n",
      " [5 6]]\n"
     ]
    }
   ],
   "source": [
    "x=np.array([[1,2],[3,4]])\n",
    "y=np.array([[5,6]])\n",
    "print('Array 1 :','\\n',x)\n",
    "print('Array 2 :','\\n',y)\n",
    "print('Concatenate along rows :','\\n',np.concatenate((x,y),axis=0))"
   ]
  },
  {
   "cell_type": "code",
   "execution_count": null,
   "id": "334f3637",
   "metadata": {},
   "outputs": [],
   "source": []
  }
 ],
 "metadata": {
  "kernelspec": {
   "display_name": "Python 3",
   "language": "python",
   "name": "python3"
  },
  "language_info": {
   "codemirror_mode": {
    "name": "ipython",
    "version": 3
   },
   "file_extension": ".py",
   "mimetype": "text/x-python",
   "name": "python",
   "nbconvert_exporter": "python",
   "pygments_lexer": "ipython3",
   "version": "3.9.4"
  }
 },
 "nbformat": 4,
 "nbformat_minor": 5
}
