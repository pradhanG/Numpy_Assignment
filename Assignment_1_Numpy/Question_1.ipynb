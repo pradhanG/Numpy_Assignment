{
 "cells": [
  {
   "cell_type": "markdown",
   "id": "38cc9228",
   "metadata": {},
   "source": [
    "## Q1- Use numpy to generate array of 25 random numbers sampled from a standard normal distribution\n"
   ]
  },
  {
   "cell_type": "code",
   "execution_count": 6,
   "id": "4d597778",
   "metadata": {},
   "outputs": [
    {
     "data": {
      "text/plain": [
       "array([-1.32297176, -0.3202594 ,  1.6330801 , -0.18351926,  0.03710378,\n",
       "        0.21860433, -0.85440081,  0.10907875,  0.77313032,  0.98962919,\n",
       "        0.52451081, -0.87613603,  0.36972006,  0.03967711,  1.85116021,\n",
       "        0.8554209 ,  0.27061815, -0.93904404,  0.57712011,  0.94030644,\n",
       "       -0.47759862, -0.19076042,  1.0292052 ,  0.58943588, -2.10573006])"
      ]
     },
     "execution_count": 6,
     "metadata": {},
     "output_type": "execute_result"
    }
   ],
   "source": [
    "import numpy as np\n",
    "mat = np.random.randn(25)\n",
    "mat"
   ]
  },
  {
   "cell_type": "code",
   "execution_count": null,
   "id": "ef9faaa2",
   "metadata": {},
   "outputs": [],
   "source": []
  }
 ],
 "metadata": {
  "kernelspec": {
   "display_name": "Python 3",
   "language": "python",
   "name": "python3"
  },
  "language_info": {
   "codemirror_mode": {
    "name": "ipython",
    "version": 3
   },
   "file_extension": ".py",
   "mimetype": "text/x-python",
   "name": "python",
   "nbconvert_exporter": "python",
   "pygments_lexer": "ipython3",
   "version": "3.9.4"
  }
 },
 "nbformat": 4,
 "nbformat_minor": 5
}
