{
 "cells": [
  {
   "cell_type": "markdown",
   "id": "2412ce4c",
   "metadata": {},
   "source": [
    "## Q4- Create a 10x10 array with random values and find the minimum and maximum values."
   ]
  },
  {
   "cell_type": "code",
   "execution_count": 1,
   "id": "6f5c0a29",
   "metadata": {},
   "outputs": [],
   "source": [
    "import numpy as np"
   ]
  },
  {
   "cell_type": "code",
   "execution_count": 8,
   "id": "b1b4c23c",
   "metadata": {},
   "outputs": [
    {
     "name": "stdout",
     "output_type": "stream",
     "text": [
      "Minimum is  -3.1349197676206337\n",
      "Maximum is  2.5450872174205648\n"
     ]
    }
   ],
   "source": [
    "np.random.seed(8)\n",
    "mat=np.random.randn(10,10)\n",
    "x=np.min(mat)\n",
    "y=np.max(mat)\n",
    "print('Minimum is ', x)\n",
    "print('Maximum is ', y)"
   ]
  },
  {
   "cell_type": "code",
   "execution_count": null,
   "id": "f1958629",
   "metadata": {},
   "outputs": [],
   "source": []
  },
  {
   "cell_type": "code",
   "execution_count": null,
   "id": "aab9b820",
   "metadata": {},
   "outputs": [],
   "source": []
  }
 ],
 "metadata": {
  "kernelspec": {
   "display_name": "Python 3",
   "language": "python",
   "name": "python3"
  },
  "language_info": {
   "codemirror_mode": {
    "name": "ipython",
    "version": 3
   },
   "file_extension": ".py",
   "mimetype": "text/x-python",
   "name": "python",
   "nbconvert_exporter": "python",
   "pygments_lexer": "ipython3",
   "version": "3.9.4"
  }
 },
 "nbformat": 4,
 "nbformat_minor": 5
}
